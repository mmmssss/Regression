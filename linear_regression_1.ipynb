{
 "cells": [
  {
   "cell_type": "code",
   "execution_count": 1,
   "metadata": {
    "colab": {
     "base_uri": "https://localhost:8080/"
    },
    "executionInfo": {
     "elapsed": 3464,
     "status": "ok",
     "timestamp": 1620590783872,
     "user": {
      "displayName": "Shinichi Shirakawa",
      "photoUrl": "",
      "userId": "09393306983207370478"
     },
     "user_tz": -540
    },
    "id": "AvCqvvw5I2s-",
    "outputId": "2011dfa4-270e-421e-fefe-6976994ead31"
   },
   "outputs": [
    {
     "name": "stdout",
     "output_type": "stream",
     "text": [
      "The python version is 3.7.10.\n",
      "The numpy version is 1.19.5.\n",
      "The scikit-learn version is 0.22.2.post1.\n"
     ]
    }
   ],
   "source": [
    "import numpy as np\n",
    "import matplotlib.pyplot as plt\n",
    "%matplotlib inline\n",
    "import pandas as pd\n",
    "import sklearn\n",
    "\n",
    "# バージョンの情報\n",
    "import platform\n",
    "print('The python version is {}.'.format(platform.python_version()))\n",
    "print('The numpy version is {}.'.format(np.__version__))\n",
    "print('The scikit-learn version is {}.'.format(sklearn.__version__))"
   ]
  },
  {
   "cell_type": "markdown",
   "metadata": {
    "id": "lYNg6JmSLSCc"
   },
   "source": [
    "# データセットの作成用関数\n",
    "* sin関数に正規分布のノイズを加えたデータセットを生成する関数\n",
    "* $0 \\leq x \\leq 2\\pi$ の範囲に等間隔にdata_num個のデータを生成する\n",
    "* sigmaは正規分布の標準偏差"
   ]
  },
  {
   "cell_type": "code",
   "execution_count": 2,
   "metadata": {
    "executionInfo": {
     "elapsed": 3460,
     "status": "ok",
     "timestamp": 1620590783873,
     "user": {
      "displayName": "Shinichi Shirakawa",
      "photoUrl": "",
      "userId": "09393306983207370478"
     },
     "user_tz": -540
    },
    "id": "a2mka6rCLUMI"
   },
   "outputs": [],
   "source": [
    "def create_dataset(data_num, sigma=0.3):\n",
    "    X = np.linspace(0, 2*np.pi, num=data_num)\n",
    "    t = np.sin(X) + sigma * np.random.randn(data_num)\n",
    "    return X, t"
   ]
  },
  {
   "cell_type": "markdown",
   "metadata": {
    "id": "b-y5wL7oyK5g"
   },
   "source": [
    "## 評価指標を計算する関数\n",
    "* 決定係数（$R^2$ score）\n",
    "* 平方根平均二乗誤差（Root mean squre error; RMSE）\n",
    "* 平均絶対誤差（Mean Absolute Error; MAE）"
   ]
  },
  {
   "cell_type": "code",
   "execution_count": 3,
   "metadata": {
    "executionInfo": {
     "elapsed": 3459,
     "status": "ok",
     "timestamp": 1620590783874,
     "user": {
      "displayName": "Shinichi Shirakawa",
      "photoUrl": "",
      "userId": "09393306983207370478"
     },
     "user_tz": -540
    },
    "id": "11aQQIxXyL42"
   },
   "outputs": [],
   "source": [
    "# t: 正解値，y: 予測値\n",
    "def RMSE(t, y):\n",
    "    return np.sqrt(np.mean((y - t)**2))\n",
    "\n",
    "def R2(t, y):\n",
    "    return 1 - np.sum((y - t)**2) / np.sum((t - np.mean(t))**2)\n",
    "\n",
    "def MAE(t, y):\n",
    "    return np.mean(np.abs(y - t))"
   ]
  },
  {
   "cell_type": "markdown",
   "metadata": {
    "id": "T--cpeFTMEQ4"
   },
   "source": [
    "# 線形回帰モデル（自作）"
   ]
  },
  {
   "cell_type": "markdown",
   "metadata": {
    "id": "CnXEHvKLyRBu"
   },
   "source": [
    "##モデルの定義"
   ]
  },
  {
   "cell_type": "code",
   "execution_count": 4,
   "metadata": {
    "executionInfo": {
     "elapsed": 3457,
     "status": "ok",
     "timestamp": 1620590783874,
     "user": {
      "displayName": "Shinichi Shirakawa",
      "photoUrl": "",
      "userId": "09393306983207370478"
     },
     "user_tz": -540
    },
    "id": "kAypMBmVMBOq"
   },
   "outputs": [],
   "source": [
    "class LinearRegression(object):    \n",
    "    # モデルの訓練\n",
    "    # X: 学習データの入力変数\n",
    "    # t: 学習データの目的変数\n",
    "    def fit(self, X, t):\n",
    "        invP = np.linalg.pinv(X)  # Moore-Penroseの擬似逆行列を求める\n",
    "        self.w = np.dot(invP, t)\n",
    "        \n",
    "        # 一番簡単なのは numpy.linalg.lstsq を使う方法\n",
    "        #self.w = np.linalg.lstsq(X, t)[0]\n",
    "\n",
    "        # 以下のように式の通り逆行列を求めても良いが，\n",
    "        # 基底関数が多くなった場合に計算結果に誤差が出ることがある\n",
    "        #tmp = np.linalg.inv(np.dot(X.T, X))\n",
    "        #self.w = np.dot(np.dot(tmp, X.T), t)\n",
    "    \n",
    "    # 新しいデータの予測\n",
    "    # X: 入力変数\n",
    "    def predict(self, X):\n",
    "        return np.dot(X, self.w)"
   ]
  },
  {
   "cell_type": "markdown",
   "metadata": {
    "id": "QnB2CbRNOFRq"
   },
   "source": [
    "## 基底関数の定義"
   ]
  },
  {
   "cell_type": "markdown",
   "metadata": {
    "id": "OfFPToK8x5sF"
   },
   "source": [
    "### 多項式"
   ]
  },
  {
   "cell_type": "code",
   "execution_count": 5,
   "metadata": {
    "executionInfo": {
     "elapsed": 3456,
     "status": "ok",
     "timestamp": 1620590783875,
     "user": {
      "displayName": "Shinichi Shirakawa",
      "photoUrl": "",
      "userId": "09393306983207370478"
     },
     "user_tz": -540
    },
    "id": "83dGFwNSNxqQ"
   },
   "outputs": [],
   "source": [
    "# x^0 から x^(M-1)までの基底関数の値を返す\n",
    "class Polynomial(object):\n",
    "    def __init__(self, M=1):\n",
    "        self.M = M\n",
    "    \n",
    "    # Xは （データ数 x 1）もしくは（データ数）のサイズの配列\n",
    "    def __call__(self, X):\n",
    "        return np.array([X.flatten()**i for i in range(self.M)]).T"
   ]
  },
  {
   "cell_type": "markdown",
   "metadata": {
    "id": "s0iCMXchOtJ7"
   },
   "source": [
    "### ガウス基底関数"
   ]
  },
  {
   "cell_type": "code",
   "execution_count": 6,
   "metadata": {
    "executionInfo": {
     "elapsed": 3455,
     "status": "ok",
     "timestamp": 1620590783875,
     "user": {
      "displayName": "Shinichi Shirakawa",
      "photoUrl": "",
      "userId": "09393306983207370478"
     },
     "user_tz": -540
    },
    "id": "zx5WXF0YOqeb"
   },
   "outputs": [],
   "source": [
    "class GaussianBasis(object):\n",
    "    def __init__(self, baseMu, s=1.0):\n",
    "        self.baseMu = baseMu\n",
    "        self.s = s\n",
    "    \n",
    "    # Xは （データ数 x 特徴数）のサイズの配列\n",
    "    def __call__(self, X):\n",
    "        if len(X.shape) == 1:\n",
    "            X = X[:, np.newaxis]\n",
    "        gbasis = np.array([np.exp(- np.sum((X - mu)**2, axis=1) / (2 * self.s**2)) for mu in self.baseMu]).T\n",
    "        return gbasis"
   ]
  },
  {
   "cell_type": "markdown",
   "metadata": {
    "id": "XnuWzotTRoFD"
   },
   "source": [
    "# データの作成"
   ]
  },
  {
   "cell_type": "code",
   "execution_count": 7,
   "metadata": {
    "colab": {
     "base_uri": "https://localhost:8080/",
     "height": 265
    },
    "executionInfo": {
     "elapsed": 3450,
     "status": "ok",
     "timestamp": 1620590783876,
     "user": {
      "displayName": "Shinichi Shirakawa",
      "photoUrl": "",
      "userId": "09393306983207370478"
     },
     "user_tz": -540
    },
    "id": "F3HUTaAFOxJw",
    "outputId": "eaf32341-bbb3-42f7-8fee-fd342bd2ad7a"
   },
   "outputs": [
    {
     "data": {
      "image/png": "[encoded data removed]",
      "text/plain": [
       "<Figure size 432x288 with 1 Axes>"
      ]
     },
     "metadata": {
      "needs_background": "light",
      "tags": []
     },
     "output_type": "display_data"
    }
   ],
   "source": [
    "# 乱数シードの固定\n",
    "np.random.seed(1)\n",
    "\n",
    "# データの作成\n",
    "N = 20\n",
    "orgX, org_t = create_dataset(N)\n",
    "\n",
    "index = np.arange(N)\n",
    "np.random.shuffle(index)\n",
    "\n",
    "# 訓練データ（8割を訓練データに）\n",
    "X_train, t_train = orgX[index[:int(0.8*N)]], org_t[index[:int(0.8*N)]]\n",
    "# テスト用データ（残りの2割）\n",
    "X_test, t_test = orgX[index[int(0.8*N):]], org_t[index[int(0.8*N):]]\n",
    "\n",
    "# 訓練用データのプロット\n",
    "plt.scatter(X_train, t_train, marker='o', color='blue', label=None)\n",
    "# テスト用データのプロット\n",
    "plt.scatter(X_test, t_test, marker='o', color='red', label=None)\n",
    "# 真の曲線を表示\n",
    "XX, tt = create_dataset(100, sigma=0.)\n",
    "plt.plot(XX, tt, color='green', linestyle='--')\n",
    "plt.show()"
   ]
  },
  {
   "cell_type": "markdown",
   "metadata": {
    "id": "DHOp62cdStY9"
   },
   "source": [
    "# モデルの学習例（多項式回帰）"
   ]
  },
  {
   "cell_type": "code",
   "execution_count": 8,
   "metadata": {
    "colab": {
     "base_uri": "https://localhost:8080/",
     "height": 332
    },
    "executionInfo": {
     "elapsed": 3445,
     "status": "ok",
     "timestamp": 1620590783876,
     "user": {
      "displayName": "Shinichi Shirakawa",
      "photoUrl": "",
      "userId": "09393306983207370478"
     },
     "user_tz": -540
    },
    "id": "658hUsqiR7RY",
    "outputId": "52c111e9-f407-4601-90f3-88e49c495be3"
   },
   "outputs": [
    {
     "data": {
      "image/png": "[encoded data removed]",
      "text/plain": [
       "<Figure size 432x288 with 1 Axes>"
      ]
     },
     "metadata": {
      "needs_background": "light",
      "tags": []
     },
     "output_type": "display_data"
    },
    {
     "name": "stdout",
     "output_type": "stream",
     "text": [
      "（学習データ）RMSE: 0.335, MAE: 0.276, R2: 0.764\n",
      "（テストデータ）RMSE: 0.442, MAE: 0.392, R2: 0.779\n",
      "係数：[-0.01476176  1.4818936  -0.70638064  0.07511567]\n"
     ]
    }
   ],
   "source": [
    "# 次数\n",
    "M = 4\n",
    "\n",
    "# 線形回帰モデルの学習\n",
    "Phi = Polynomial(M=M)\n",
    "lr_model = LinearRegression()\n",
    "lr_model.fit(Phi(X_train), t_train)\n",
    "\n",
    "# 予測曲線の取得\n",
    "XX, tt = create_dataset(100, sigma=0.)\n",
    "yy = lr_model.predict(Phi(XX))\n",
    "\n",
    "# プロット\n",
    "plt.title('M=%d'%(M))\n",
    "plt.scatter(X_train, t_train, marker='o', color='blue', label=None)\n",
    "plt.scatter(X_test, t_test, marker='o', color='red', label=None)\n",
    "plt.plot(XX, tt, color='green', linestyle='--')\n",
    "plt.plot(XX, yy, color='red')  # 予測曲線を表示\n",
    "plt.show()\n",
    "\n",
    "# 評価指標の表示\n",
    "y_train = lr_model.predict(Phi(X_train))\n",
    "y_test = lr_model.predict(Phi(X_test))\n",
    "print('（学習データ）RMSE: %.3f, MAE: %.3f, R2: %.3f'%(RMSE(t_train, y_train), MAE(t_train, y_train), R2(t_train, y_train)))\n",
    "print('（テストデータ）RMSE: %.3f, MAE: %.3f, R2: %.3f'%(RMSE(t_test, y_test), MAE(t_test, y_test), R2(t_test, y_test)))\n",
    "print('係数：' + str(lr_model.w))"
   ]
  },
  {
   "cell_type": "markdown",
   "metadata": {
    "id": "CVVI-kwQW4hD"
   },
   "source": [
    "# モデルの学習例（ガウス基底関数の場合）\n",
    "* ガウス基底関数の場合は特徴量の次元がデータ数分になるため正則化を入れないとパラメータによっては結果が不安定になる"
   ]
  },
  {
   "cell_type": "code",
   "execution_count": 9,
   "metadata": {
    "colab": {
     "base_uri": "https://localhost:8080/",
     "height": 383
    },
    "executionInfo": {
     "elapsed": 4005,
     "status": "ok",
     "timestamp": 1620590784443,
     "user": {
      "displayName": "Shinichi Shirakawa",
      "photoUrl": "",
      "userId": "09393306983207370478"
     },
     "user_tz": -540
    },
    "id": "GawFIOZoUX5s",
    "outputId": "beb7d344-9c47-42ba-906d-0e80d59cda89"
   },
   "outputs": [
    {
     "data": {
      "image/png": "[encoded data removed]",
      "text/plain": [
       "<Figure size 432x288 with 1 Axes>"
      ]
     },
     "metadata": {
      "needs_background": "light",
      "tags": []
     },
     "output_type": "display_data"
    },
    {
     "name": "stdout",
     "output_type": "stream",
     "text": [
      "（学習データ）RMSE: 0.000, MAE: 0.000, R2: 1.000\n",
      "（テストデータ）RMSE: 1.483, MAE: 1.286, R2: -1.479\n",
      "係数：[  18.55709452  127.9472504   -58.84400963   -7.84060839 -141.76665325\n",
      "  116.59397463  -36.90207152   17.13694088   37.74126133  -21.10131102\n",
      "  -31.2112105   -84.25013464   31.08841036   -4.40580402    4.84693492\n",
      "   33.11133075]\n"
     ]
    }
   ],
   "source": [
    "# 線形回帰モデルの学習\n",
    "s = 0.5\n",
    "Phi = GaussianBasis(X_train, s=s)\n",
    "lr_model = LinearRegression()\n",
    "lr_model.fit(Phi(X_train), t_train)\n",
    "\n",
    "# 予測曲線の取得\n",
    "XX, tt = create_dataset(100, sigma=0.)\n",
    "yy = lr_model.predict(Phi(XX))\n",
    "\n",
    "# プロット\n",
    "plt.title('s=%.2f'%(s))\n",
    "plt.scatter(X_train, t_train, marker='o', color='blue', label=None)\n",
    "plt.scatter(X_test, t_test, marker='o', color='red', label=None)\n",
    "plt.plot(XX, tt, color='green', linestyle='--')\n",
    "plt.plot(XX, yy, color='red')  # 予測曲線を表示\n",
    "plt.show()\n",
    "\n",
    "# 評価指標の表示\n",
    "y_train = lr_model.predict(Phi(X_train))\n",
    "y_test = lr_model.predict(Phi(X_test))\n",
    "print('（学習データ）RMSE: %.3f, MAE: %.3f, R2: %.3f'%(RMSE(t_train, y_train), MAE(t_train, y_train), R2(t_train, y_train)))\n",
    "print('（テストデータ）RMSE: %.3f, MAE: %.3f, R2: %.3f'%(RMSE(t_test, y_test), MAE(t_test, y_test), R2(t_test, y_test)))\n",
    "print('係数：' + str(lr_model.w))"
   ]
  },
  {
   "cell_type": "markdown",
   "metadata": {
    "id": "Qta1ogyuhcta"
   },
   "source": [
    "# pythonの機械学習ライブラリscikit-learnを使った場合の線形回帰\n",
    "* https://scikit-learn.org/stable/modules/generated/sklearn.linear_model.LinearRegression.html"
   ]
  },
  {
   "cell_type": "code",
   "execution_count": 10,
   "metadata": {
    "colab": {
     "base_uri": "https://localhost:8080/",
     "height": 316
    },
    "executionInfo": {
     "elapsed": 4904,
     "status": "ok",
     "timestamp": 1620590785348,
     "user": {
      "displayName": "Shinichi Shirakawa",
      "photoUrl": "",
      "userId": "09393306983207370478"
     },
     "user_tz": -540
    },
    "id": "2JAa95eJXuHN",
    "outputId": "72addd39-6167-480d-8825-2e47a10134a8"
   },
   "outputs": [
    {
     "data": {
      "image/png": "[encoded data removed]",
      "text/plain": [
       "<Figure size 432x288 with 1 Axes>"
      ]
     },
     "metadata": {
      "needs_background": "light",
      "tags": []
     },
     "output_type": "display_data"
    },
    {
     "name": "stdout",
     "output_type": "stream",
     "text": [
      "（学習データ）RMSE: 0.335, MAE: 0.276, R2: 0.764\n",
      "（テストデータ）RMSE: 0.442, MAE: 0.392, R2: 0.779\n",
      "係数：[-0.01476176  1.4818936  -0.70638064  0.07511567]\n"
     ]
    }
   ],
   "source": [
    "import sklearn.linear_model as sk_lm\n",
    "from sklearn.metrics import r2_score, mean_absolute_error, mean_squared_error\n",
    "\n",
    "Phi = Polynomial(M=4)\n",
    "lr_model = sk_lm.LinearRegression(fit_intercept=False)  # バイアスを無効にする（特徴量に定数x^0が含まれているので）\n",
    "lr_model.fit(Phi(X_train), t_train)\n",
    "\n",
    "# 予測曲線の取得\n",
    "XX, tt = create_dataset(100, sigma=0.)\n",
    "yy = lr_model.predict(Phi(XX))\n",
    "\n",
    "# プロット\n",
    "plt.scatter(X_train, t_train, marker='o', color='blue', label=None)\n",
    "plt.scatter(X_test, t_test, marker='o', color='red', label=None)\n",
    "plt.plot(XX, tt, color='green', linestyle='--')\n",
    "plt.plot(XX, yy, color='red')  # 予測曲線を表示\n",
    "plt.show()\n",
    "\n",
    "# 評価指標の表示\n",
    "y_train = lr_model.predict(Phi(X_train))\n",
    "y_test = lr_model.predict(Phi(X_test))\n",
    "# Scikit-learnの機能を使ってスコアを算出\n",
    "print('（学習データ）RMSE: %.3f, MAE: %.3f, R2: %.3f'%(np.sqrt(mean_squared_error(t_train, y_train)), mean_absolute_error(t_train, y_train), r2_score(t_train, y_train)))\n",
    "print('（テストデータ）RMSE: %.3f, MAE: %.3f, R2: %.3f'%(np.sqrt(mean_squared_error(t_test, y_test)), mean_absolute_error(t_test, y_test), r2_score(t_test, y_test)))\n",
    "print('係数：' + str(lr_model.coef_))"
   ]
  },
  {
   "cell_type": "markdown",
   "metadata": {
    "id": "bFqeRxcWlubv"
   },
   "source": [
    "---\n",
    "\n",
    "# 赤ワインのデータ"
   ]
  },
  {
   "cell_type": "code",
   "execution_count": 14,
   "metadata": {
    "executionInfo": {
     "elapsed": 740,
     "status": "ok",
     "timestamp": 1620591030063,
     "user": {
      "displayName": "Shinichi Shirakawa",
      "photoUrl": "",
      "userId": "09393306983207370478"
     },
     "user_tz": -540
    },
    "id": "4IS-w9uOadmC"
   },
   "outputs": [],
   "source": [
    "import pandas as pd\n",
    "#df = pd.read_csv('https://archive.ics.uci.edu/ml/machine-learning-databases/wine-quality/winequality-red.csv', sep=\";\", encoding=\"utf-8\")\n",
    "df = pd.read_csv('https://raw.githubusercontent.com/tirthajyoti/Machine-Learning-with-Python/master/Datasets/winequality-red.csv', sep=\";\", encoding=\"utf-8\")"
   ]
  },
  {
   "cell_type": "code",
   "execution_count": 15,
   "metadata": {
    "colab": {
     "base_uri": "https://localhost:8080/",
     "height": 419
    },
    "executionInfo": {
     "elapsed": 652,
     "status": "ok",
     "timestamp": 1620591033274,
     "user": {
      "displayName": "Shinichi Shirakawa",
      "photoUrl": "",
      "userId": "09393306983207370478"
     },
     "user_tz": -540
    },
    "id": "vMggQsn1kNUt",
    "outputId": "637e7786-ba99-4ea9-b62e-950bdcdd7365"
   },
   "outputs": [
    {
     "data": {
      "text/html": [
       "<div>\n",
       "<style scoped>\n",
       "    .dataframe tbody tr th:only-of-type {\n",
       "        vertical-align: middle;\n",
       "    }\n",
       "\n",
       "    .dataframe tbody tr th {\n",
       "        vertical-align: top;\n",
       "    }\n",
       "\n",
       "    .dataframe thead th {\n",
       "        text-align: right;\n",
       "    }\n",
       "</style>\n",
       "<table border=\"1\" class=\"dataframe\">\n",
       "  <thead>\n",
       "    <tr style=\"text-align: right;\">\n",
       "      <th></th>\n",
       "      <th>fixed acidity</th>\n",
       "      <th>volatile acidity</th>\n",
       "      <th>citric acid</th>\n",
       "      <th>residual sugar</th>\n",
       "      <th>chlorides</th>\n",
       "      <th>free sulfur dioxide</th>\n",
       "      <th>total sulfur dioxide</th>\n",
       "      <th>density</th>\n",
       "      <th>pH</th>\n",
       "      <th>sulphates</th>\n",
       "      <th>alcohol</th>\n",
       "      <th>quality</th>\n",
       "    </tr>\n",
       "  </thead>\n",
       "  <tbody>\n",
       "    <tr>\n",
       "      <th>0</th>\n",
       "      <td>7.4</td>\n",
       "      <td>0.700</td>\n",
       "      <td>0.00</td>\n",
       "      <td>1.9</td>\n",
       "      <td>0.076</td>\n",
       "      <td>11.0</td>\n",
       "      <td>34.0</td>\n",
       "      <td>0.99780</td>\n",
       "      <td>3.51</td>\n",
       "      <td>0.56</td>\n",
       "      <td>9.4</td>\n",
       "      <td>5</td>\n",
       "    </tr>\n",
       "    <tr>\n",
       "      <th>1</th>\n",
       "      <td>7.8</td>\n",
       "      <td>0.880</td>\n",
       "      <td>0.00</td>\n",
       "      <td>2.6</td>\n",
       "      <td>0.098</td>\n",
       "      <td>25.0</td>\n",
       "      <td>67.0</td>\n",
       "      <td>0.99680</td>\n",
       "      <td>3.20</td>\n",
       "      <td>0.68</td>\n",
       "      <td>9.8</td>\n",
       "      <td>5</td>\n",
       "    </tr>\n",
       "    <tr>\n",
       "      <th>2</th>\n",
       "      <td>7.8</td>\n",
       "      <td>0.760</td>\n",
       "      <td>0.04</td>\n",
       "      <td>2.3</td>\n",
       "      <td>0.092</td>\n",
       "      <td>15.0</td>\n",
       "      <td>54.0</td>\n",
       "      <td>0.99700</td>\n",
       "      <td>3.26</td>\n",
       "      <td>0.65</td>\n",
       "      <td>9.8</td>\n",
       "      <td>5</td>\n",
       "    </tr>\n",
       "    <tr>\n",
       "      <th>3</th>\n",
       "      <td>11.2</td>\n",
       "      <td>0.280</td>\n",
       "      <td>0.56</td>\n",
       "      <td>1.9</td>\n",
       "      <td>0.075</td>\n",
       "      <td>17.0</td>\n",
       "      <td>60.0</td>\n",
       "      <td>0.99800</td>\n",
       "      <td>3.16</td>\n",
       "      <td>0.58</td>\n",
       "      <td>9.8</td>\n",
       "      <td>6</td>\n",
       "    </tr>\n",
       "    <tr>\n",
       "      <th>4</th>\n",
       "      <td>7.4</td>\n",
       "      <td>0.700</td>\n",
       "      <td>0.00</td>\n",
       "      <td>1.9</td>\n",
       "      <td>0.076</td>\n",
       "      <td>11.0</td>\n",
       "      <td>34.0</td>\n",
       "      <td>0.99780</td>\n",
       "      <td>3.51</td>\n",
       "      <td>0.56</td>\n",
       "      <td>9.4</td>\n",
       "      <td>5</td>\n",
       "    </tr>\n",
       "    <tr>\n",
       "      <th>...</th>\n",
       "      <td>...</td>\n",
       "      <td>...</td>\n",
       "      <td>...</td>\n",
       "      <td>...</td>\n",
       "      <td>...</td>\n",
       "      <td>...</td>\n",
       "      <td>...</td>\n",
       "      <td>...</td>\n",
       "      <td>...</td>\n",
       "      <td>...</td>\n",
       "      <td>...</td>\n",
       "      <td>...</td>\n",
       "    </tr>\n",
       "    <tr>\n",
       "      <th>1594</th>\n",
       "      <td>6.2</td>\n",
       "      <td>0.600</td>\n",
       "      <td>0.08</td>\n",
       "      <td>2.0</td>\n",
       "      <td>0.090</td>\n",
       "      <td>32.0</td>\n",
       "      <td>44.0</td>\n",
       "      <td>0.99490</td>\n",
       "      <td>3.45</td>\n",
       "      <td>0.58</td>\n",
       "      <td>10.5</td>\n",
       "      <td>5</td>\n",
       "    </tr>\n",
       "    <tr>\n",
       "      <th>1595</th>\n",
       "      <td>5.9</td>\n",
       "      <td>0.550</td>\n",
       "      <td>0.10</td>\n",
       "      <td>2.2</td>\n",
       "      <td>0.062</td>\n",
       "      <td>39.0</td>\n",
       "      <td>51.0</td>\n",
       "      <td>0.99512</td>\n",
       "      <td>3.52</td>\n",
       "      <td>0.76</td>\n",
       "      <td>11.2</td>\n",
       "      <td>6</td>\n",
       "    </tr>\n",
       "    <tr>\n",
       "      <th>1596</th>\n",
       "      <td>6.3</td>\n",
       "      <td>0.510</td>\n",
       "      <td>0.13</td>\n",
       "      <td>2.3</td>\n",
       "      <td>0.076</td>\n",
       "      <td>29.0</td>\n",
       "      <td>40.0</td>\n",
       "      <td>0.99574</td>\n",
       "      <td>3.42</td>\n",
       "      <td>0.75</td>\n",
       "      <td>11.0</td>\n",
       "      <td>6</td>\n",
       "    </tr>\n",
       "    <tr>\n",
       "      <th>1597</th>\n",
       "      <td>5.9</td>\n",
       "      <td>0.645</td>\n",
       "      <td>0.12</td>\n",
       "      <td>2.0</td>\n",
       "      <td>0.075</td>\n",
       "      <td>32.0</td>\n",
       "      <td>44.0</td>\n",
       "      <td>0.99547</td>\n",
       "      <td>3.57</td>\n",
       "      <td>0.71</td>\n",
       "      <td>10.2</td>\n",
       "      <td>5</td>\n",
       "    </tr>\n",
       "    <tr>\n",
       "      <th>1598</th>\n",
       "      <td>6.0</td>\n",
       "      <td>0.310</td>\n",
       "      <td>0.47</td>\n",
       "      <td>3.6</td>\n",
       "      <td>0.067</td>\n",
       "      <td>18.0</td>\n",
       "      <td>42.0</td>\n",
       "      <td>0.99549</td>\n",
       "      <td>3.39</td>\n",
       "      <td>0.66</td>\n",
       "      <td>11.0</td>\n",
       "      <td>6</td>\n",
       "    </tr>\n",
       "  </tbody>\n",
       "</table>\n",
       "<p>1599 rows × 12 columns</p>\n",
       "</div>"
      ],
      "text/plain": [
       "      fixed acidity  volatile acidity  citric acid  ...  sulphates  alcohol  quality\n",
       "0               7.4             0.700         0.00  ...       0.56      9.4        5\n",
       "1               7.8             0.880         0.00  ...       0.68      9.8        5\n",
       "2               7.8             0.760         0.04  ...       0.65      9.8        5\n",
       "3              11.2             0.280         0.56  ...       0.58      9.8        6\n",
       "4               7.4             0.700         0.00  ...       0.56      9.4        5\n",
       "...             ...               ...          ...  ...        ...      ...      ...\n",
       "1594            6.2             0.600         0.08  ...       0.58     10.5        5\n",
       "1595            5.9             0.550         0.10  ...       0.76     11.2        6\n",
       "1596            6.3             0.510         0.13  ...       0.75     11.0        6\n",
       "1597            5.9             0.645         0.12  ...       0.71     10.2        5\n",
       "1598            6.0             0.310         0.47  ...       0.66     11.0        6\n",
       "\n",
       "[1599 rows x 12 columns]"
      ]
     },
     "execution_count": 15,
     "metadata": {
      "tags": []
     },
     "output_type": "execute_result"
    }
   ],
   "source": [
    "df"
   ]
  },
  {
   "cell_type": "code",
   "execution_count": 16,
   "metadata": {
    "colab": {
     "base_uri": "https://localhost:8080/"
    },
    "executionInfo": {
     "elapsed": 664,
     "status": "ok",
     "timestamp": 1620591038661,
     "user": {
      "displayName": "Shinichi Shirakawa",
      "photoUrl": "",
      "userId": "09393306983207370478"
     },
     "user_tz": -540
    },
    "id": "mOhbZMdNkOAf",
    "outputId": "01e70384-6b57-478c-9492-f2a98fda1fdd"
   },
   "outputs": [
    {
     "name": "stdout",
     "output_type": "stream",
     "text": [
      "（学習データ）RMSE: 0.653, MAE: 0.510, R2: 0.365\n",
      "（テストデータ）RMSE: 0.620, MAE: 0.470, R2: 0.328\n",
      "係数：\n",
      "fixed acidity: 0.0716\n",
      "volatile acidity: -0.2098\n",
      "citric acid: -0.0348\n",
      "residual sugar: 0.0405\n",
      "chlorides: -0.0895\n",
      "free sulfur dioxide: 0.0282\n",
      "total sulfur dioxide: -0.0932\n",
      "density: -0.0593\n",
      "pH: -0.0392\n",
      "sulphates: 0.1615\n",
      "alcohol: 0.2841\n",
      "切片：5.646598905394848\n"
     ]
    }
   ],
   "source": [
    "from sklearn.model_selection import train_test_split\n",
    "from sklearn.preprocessing import StandardScaler, MinMaxScaler\n",
    "\n",
    "# 品質（quality）を予測する\n",
    "t_org = df['quality'].values\n",
    "X_org = df.drop(columns='quality').values\n",
    " \n",
    "# データを学習用とテスト用に分割する（Scikit-learnの機能を使う）\n",
    "X_train, X_test, t_train, t_test = train_test_split(X_org, t_org, test_size=0.2, random_state=0)\n",
    "\n",
    "# 入力変数を標準化する（各変数が平均0，分散1になるようにスケーリング: (x - mean)/sigma）\n",
    "scaler = StandardScaler()\n",
    "scaler.fit(X_train)\n",
    "X_train = scaler.transform(X_train)\n",
    "X_test = scaler.transform(X_test)\n",
    "\n",
    "# 線形回帰モデルの学習\n",
    "# ここでは基底関数は使わず元の特徴量をそのまま説明変数として利用する\n",
    "lr_model = sk_lm.LinearRegression(fit_intercept=True)  # バイアスを有効にする\n",
    "lr_model.fit(X_train, t_train)\n",
    " \n",
    "# 評価指標の表示\n",
    "y_train = lr_model.predict(X_train)\n",
    "y_test = lr_model.predict(X_test)\n",
    "print('（学習データ）RMSE: %.3f, MAE: %.3f, R2: %.3f'%(RMSE(t_train, y_train), MAE(t_train, y_train), R2(t_train, y_train)))\n",
    "print('（テストデータ）RMSE: %.3f, MAE: %.3f, R2: %.3f'%(RMSE(t_test, y_test), MAE(t_test, y_test), R2(t_test, y_test)))\n",
    "print('係数：')\n",
    "for i, n in enumerate(df.drop(columns='quality').columns):\n",
    "    print(n + ': %.4f'%(lr_model.coef_[i]))\n",
    "print('切片：' + str(lr_model.intercept_))"
   ]
  },
  {
   "cell_type": "code",
   "execution_count": null,
   "metadata": {
    "executionInfo": {
     "elapsed": 36889,
     "status": "aborted",
     "timestamp": 1620590817348,
     "user": {
      "displayName": "Shinichi Shirakawa",
      "photoUrl": "",
      "userId": "09393306983207370478"
     },
     "user_tz": -540
    },
    "id": "mtIX5xa-pCSx"
   },
   "outputs": [],
   "source": []
  }
 ],
 "metadata": {
  "colab": {
   "authorship_tag": "ABX9TyMwGEHpcibScszB6Y+q0WC7",
   "collapsed_sections": [],
   "name": "linear_regression1.ipynb",
   "provenance": []
  },
  "kernelspec": {
   "display_name": "Python 3",
   "language": "python",
   "name": "python3"
  },
  "language_info": {
   "codemirror_mode": {
    "name": "ipython",
    "version": 3
   },
   "file_extension": ".py",
   "mimetype": "text/x-python",
   "name": "python",
   "nbconvert_exporter": "python",
   "pygments_lexer": "ipython3",
   "version": "3.7.10"
  }
 },
 "nbformat": 4,
 "nbformat_minor": 1
}
