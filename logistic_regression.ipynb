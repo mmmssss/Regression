{
 "cells": [
  {
   "cell_type": "code",
   "execution_count": 1,
   "metadata": {
    "colab": {
     "base_uri": "https://localhost:8080/"
    },
    "executionInfo": {
     "elapsed": 820,
     "status": "ok",
     "timestamp": 1621810116172,
     "user": {
      "displayName": "Shinichi Shirakawa",
      "photoUrl": "",
      "userId": "09393306983207370478"
     },
     "user_tz": -540
    },
    "id": "-4KcNo-5IhCz",
    "outputId": "d44af639-c8de-48eb-8224-bd7d8b726c30"
   },
   "outputs": [
    {
     "name": "stdout",
     "output_type": "stream",
     "text": [
      "The python version is 3.7.10.\n",
      "The numpy version is 1.19.5.\n",
      "The scikit-learn version is 0.22.2.post1.\n"
     ]
    }
   ],
   "source": [
    "import numpy as np\n",
    "import matplotlib.pyplot as plt\n",
    "import sklearn\n",
    "\n",
    "# バージョンの情報\n",
    "import platform\n",
    "print('The python version is {}.'.format(platform.python_version()))\n",
    "print('The numpy version is {}.'.format(np.__version__))\n",
    "print('The scikit-learn version is {}.'.format(sklearn.__version__))"
   ]
  },
  {
   "cell_type": "markdown",
   "metadata": {
    "id": "DsAvWPbwIvQ2"
   },
   "source": [
    "# データセットの作成"
   ]
  },
  {
   "cell_type": "code",
   "execution_count": 2,
   "metadata": {
    "executionInfo": {
     "elapsed": 6,
     "status": "ok",
     "timestamp": 1621810116173,
     "user": {
      "displayName": "Shinichi Shirakawa",
      "photoUrl": "",
      "userId": "09393306983207370478"
     },
     "user_tz": -540
    },
    "id": "b8t8nW5gIsZd"
   },
   "outputs": [],
   "source": [
    "from sklearn.datasets import make_moons, make_blobs\n",
    "from sklearn.model_selection import train_test_split\n",
    "from matplotlib.colors import ListedColormap\n",
    "\n",
    "# Scikit-learn組み込みのデータセットを読み込む\n",
    "X, y = make_moons(n_samples=100, noise=0.2, random_state=0)\n",
    "#X, y = make_blobs(n_samples=100, n_features=2, centers=[(-1, -1), (1, 1)], random_state=0)\n",
    "\n",
    "# 訓練とテストに分ける\n",
    "X_train, X_test, y_train, y_test = train_test_split(X, y, test_size=0.2)"
   ]
  },
  {
   "cell_type": "code",
   "execution_count": 3,
   "metadata": {
    "colab": {
     "base_uri": "https://localhost:8080/",
     "height": 265
    },
    "executionInfo": {
     "elapsed": 283,
     "status": "ok",
     "timestamp": 1621810116451,
     "user": {
      "displayName": "Shinichi Shirakawa",
      "photoUrl": "",
      "userId": "09393306983207370478"
     },
     "user_tz": -540
    },
    "id": "yfT9cxJ8JJxO",
    "outputId": "a74b2886-e4e7-4449-cfd4-16f70563b696"
   },
   "outputs": [
    {
     "data": {
      "image/png": "[encoded data removed]",
      "text/plain": [
       "<Figure size 432x288 with 1 Axes>"
      ]
     },
     "metadata": {
      "needs_background": "light",
      "tags": []
     },
     "output_type": "display_data"
    }
   ],
   "source": [
    "# Plot the training and testing points\n",
    "cm_bright = ListedColormap(['#FF0000', '#0000FF'])\n",
    "plt.scatter(X_train[:, 0], X_train[:, 1], c=y_train, cmap=cm_bright)\n",
    "plt.scatter(X_test[:, 0], X_test[:, 1], c=y_test, cmap=cm_bright, marker='x')\n",
    "plt.show()"
   ]
  },
  {
   "cell_type": "code",
   "execution_count": 4,
   "metadata": {
    "executionInfo": {
     "elapsed": 10,
     "status": "ok",
     "timestamp": 1621810116452,
     "user": {
      "displayName": "Shinichi Shirakawa",
      "photoUrl": "",
      "userId": "09393306983207370478"
     },
     "user_tz": -540
    },
    "id": "QAD09J1cMoBI"
   },
   "outputs": [],
   "source": [
    "# 結果プロット用の関数\n",
    "def res_plot(predict_func, X, y, X_train, X_test, y_train, y_test, Phi=None):\n",
    "    h = .02  # step size in the mesh\n",
    "    x_min, x_max = X[:, 0].min() - .5, X[:, 0].max() + .5\n",
    "    y_min, y_max = X[:, 1].min() - .5, X[:, 1].max() + .5\n",
    "    xx, yy = np.meshgrid(np.arange(x_min, x_max, h), np.arange(y_min, y_max, h))\n",
    "\n",
    "    if Phi is None:\n",
    "        Z = predict_func(np.c_[xx.ravel(), yy.ravel()])\n",
    "    else:\n",
    "        Z = predict_func(Phi(np.c_[xx.ravel(), yy.ravel()]))\n",
    "    Z[Z < 0.5] = -1.\n",
    "    Z[Z >= 0.5] = 1.\n",
    "    Z = Z.reshape(xx.shape)\n",
    "    plt.contourf(xx, yy, Z, cmap=ListedColormap(['HotPink', 'RoyalBlue']), alpha=.8)\n",
    "\n",
    "    # Plot the training points and testing points\n",
    "    cm_bright = ListedColormap(['#FF0000', '#0000FF'])\n",
    "    plt.scatter(X_train[:, 0], X_train[:, 1], c=y_train, cmap=cm_bright)\n",
    "    plt.scatter(X_test[:, 0], X_test[:, 1], c=y_test, cmap=cm_bright, marker='x')\n",
    "    \n",
    "    plt.show()"
   ]
  },
  {
   "cell_type": "markdown",
   "metadata": {
    "id": "xPUPKLy6K7xa"
   },
   "source": [
    "# ロジスティック回帰（2クラスの場合）"
   ]
  },
  {
   "cell_type": "code",
   "execution_count": 5,
   "metadata": {
    "executionInfo": {
     "elapsed": 10,
     "status": "ok",
     "timestamp": 1621810116452,
     "user": {
      "displayName": "Shinichi Shirakawa",
      "photoUrl": "",
      "userId": "09393306983207370478"
     },
     "user_tz": -540
    },
    "id": "UQYZDfVYJNZ7"
   },
   "outputs": [],
   "source": [
    "class TwoClassLogisticRegression(object):\n",
    "    def __init__(self):\n",
    "        pass\n",
    "        \n",
    "    # 予測\n",
    "    def predict(self, X):\n",
    "        if self.bias:\n",
    "            X = np.c_[X, np.ones(X.shape[0])]    # バイアス項を入力に含める\n",
    "        return 1. / (1. + np.exp(- np.dot(X, self.w))) \n",
    "    \n",
    "    # X: 学習データの入力変数\n",
    "    # t: 学習データの目的変数 (0 or 1)\n",
    "    # lam: 正則化係数\n",
    "    # Tmax: 更新回数\n",
    "    # bias: バイアス項を追加するか\n",
    "    def fit(self, X, t, lam=0., Tmax=20, bias=True):\n",
    "        self.bias = bias\n",
    "        if bias:\n",
    "            X = np.c_[X, np.ones(X.shape[0])]    # バイアス項を入力に含める\n",
    "        \n",
    "        d = X.shape[1]\n",
    "        self.w = np.random.randn(d)    # パラメータの初期化\n",
    "        self.w /= np.sqrt(np.sum(self.w * self.w))\n",
    "        \n",
    "        # 最適化ループ\n",
    "        for ite in range(Tmax):\n",
    "            y = 1. / (1. + np.exp(- np.dot(X, self.w)))    # シグモイド関数\n",
    "            neg_log_like = - np.sum(t * np.log(y) + (1 - t) * np.log(1 - y))    # 負の対数尤度\n",
    "            \n",
    "            print('({}) '.format(ite+1) + 'Negative log-lilekihood: {}, Loss: {}'.format(neg_log_like, neg_log_like + lam / 2 * np.sum(self.w**2)))\n",
    "\n",
    "            gw = np.dot(X.T, (y - t)) + lam * self.w    # 勾配\n",
    "            H = np.dot(np.dot(X.T, np.diag(y) * np.diag(1. - y)), X) + lam * np.identity(len(self.w))    # へシアン\n",
    "            self.w = self.w -  np.dot(np.linalg.inv(H), gw)    # Update w"
   ]
  },
  {
   "cell_type": "code",
   "execution_count": 6,
   "metadata": {
    "colab": {
     "base_uri": "https://localhost:8080/"
    },
    "executionInfo": {
     "elapsed": 10,
     "status": "ok",
     "timestamp": 1621810116453,
     "user": {
      "displayName": "Shinichi Shirakawa",
      "photoUrl": "",
      "userId": "09393306983207370478"
     },
     "user_tz": -540
    },
    "id": "tf0T3PqdLeJp",
    "outputId": "43903bd3-cd5b-4a46-d873-79a2f770f14e"
   },
   "outputs": [
    {
     "name": "stdout",
     "output_type": "stream",
     "text": [
      "(1) Negative log-lilekihood: 74.21191434073668, Loss: 74.71191434073668\n",
      "(2) Negative log-lilekihood: 28.8613660704102, Loss: 31.687869907618328\n",
      "(3) Negative log-lilekihood: 26.018795030254864, Loss: 29.773045256833715\n",
      "(4) Negative log-lilekihood: 25.666497586499542, Loss: 29.740685200595586\n",
      "(5) Negative log-lilekihood: 25.656648716951477, Loss: 29.740657467810152\n",
      "(6) Negative log-lilekihood: 25.656640146103477, Loss: 29.740657467788186\n",
      "(7) Negative log-lilekihood: 25.656640146096795, Loss: 29.740657467788186\n",
      "(8) Negative log-lilekihood: 25.656640146096798, Loss: 29.740657467788186\n",
      "(9) Negative log-lilekihood: 25.656640146096795, Loss: 29.740657467788182\n",
      "(10) Negative log-lilekihood: 25.656640146096798, Loss: 29.740657467788186\n"
     ]
    }
   ],
   "source": [
    "# 学習の実行\n",
    "d = X.shape[1]    # 入力の次元数\n",
    "LogisticReg = TwoClassLogisticRegression()\n",
    "LogisticReg.fit(X_train, y_train, lam=1., Tmax=10, bias=True)"
   ]
  },
  {
   "cell_type": "code",
   "execution_count": 7,
   "metadata": {
    "colab": {
     "base_uri": "https://localhost:8080/",
     "height": 265
    },
    "executionInfo": {
     "elapsed": 703,
     "status": "ok",
     "timestamp": 1621810117150,
     "user": {
      "displayName": "Shinichi Shirakawa",
      "photoUrl": "",
      "userId": "09393306983207370478"
     },
     "user_tz": -540
    },
    "id": "NsuTaVDbLsch",
    "outputId": "b239e362-879c-4814-e036-39941350a0f5"
   },
   "outputs": [
    {
     "data": {
      "image/png": "[encoded data removed]",
      "text/plain": [
       "<Figure size 432x288 with 1 Axes>"
      ]
     },
     "metadata": {
      "needs_background": "light",
      "tags": []
     },
     "output_type": "display_data"
    }
   ],
   "source": [
    "res_plot(LogisticReg.predict, X, y, X_train, X_test, y_train, y_test)"
   ]
  },
  {
   "cell_type": "code",
   "execution_count": 8,
   "metadata": {
    "colab": {
     "base_uri": "https://localhost:8080/"
    },
    "executionInfo": {
     "elapsed": 17,
     "status": "ok",
     "timestamp": 1621810117151,
     "user": {
      "displayName": "Shinichi Shirakawa",
      "photoUrl": "",
      "userId": "09393306983207370478"
     },
     "user_tz": -540
    },
    "id": "WynD5Io_Mr_o",
    "outputId": "141f3177-ce9c-44ae-803f-c4a7651de86d"
   },
   "outputs": [
    {
     "data": {
      "text/plain": [
       "0.85"
      ]
     },
     "execution_count": 8,
     "metadata": {
      "tags": []
     },
     "output_type": "execute_result"
    }
   ],
   "source": [
    "# テストデータに対する予測精度を計算\n",
    "from sklearn.metrics import accuracy_score\n",
    "y_pred = LogisticReg.predict(X_test) > 0.5  # 予測値が0.5より大きければ一つ目のクラスと予測する\n",
    "y_pred = y_pred.astype(np.int)\n",
    "accuracy_score(y_test, y_pred)"
   ]
  },
  {
   "cell_type": "markdown",
   "metadata": {
    "id": "6xWeoDD4PYqY"
   },
   "source": [
    "# ガウス基底関数を使ってみる"
   ]
  },
  {
   "cell_type": "code",
   "execution_count": 9,
   "metadata": {
    "executionInfo": {
     "elapsed": 13,
     "status": "ok",
     "timestamp": 1621810117152,
     "user": {
      "displayName": "Shinichi Shirakawa",
      "photoUrl": "",
      "userId": "09393306983207370478"
     },
     "user_tz": -540
    },
    "id": "jzu4OMRQNw20"
   },
   "outputs": [],
   "source": [
    "class GaussianBasis(object):\n",
    "    def __init__(self, baseMu, s=1.0):\n",
    "        self.baseMu = baseMu\n",
    "        self.s = s\n",
    "    \n",
    "    # Xは （データ数 x 特徴数）のサイズの配列\n",
    "    def __call__(self, X):\n",
    "        if len(X.shape) == 1:\n",
    "            X = X[:, np.newaxis]\n",
    "        gbasis = np.array([np.exp(- np.sum((X - mu)**2, axis=1) / (2 * self.s**2)) for mu in self.baseMu]).T\n",
    "        return gbasis"
   ]
  },
  {
   "cell_type": "code",
   "execution_count": 10,
   "metadata": {
    "colab": {
     "base_uri": "https://localhost:8080/"
    },
    "executionInfo": {
     "elapsed": 13,
     "status": "ok",
     "timestamp": 1621810117153,
     "user": {
      "displayName": "Shinichi Shirakawa",
      "photoUrl": "",
      "userId": "09393306983207370478"
     },
     "user_tz": -540
    },
    "id": "0alxa5xXNzfh",
    "outputId": "866a4fbe-0f85-4338-9195-252a04802bf7"
   },
   "outputs": [
    {
     "name": "stdout",
     "output_type": "stream",
     "text": [
      "(1) Negative log-lilekihood: 54.23335867594318, Loss: 54.23385867594318\n",
      "(2) Negative log-lilekihood: 15.156559164266477, Loss: 15.709783233802556\n",
      "(3) Negative log-lilekihood: 8.567600180764277, Loss: 9.085909563410743\n",
      "(4) Negative log-lilekihood: 5.555889319885977, Loss: 5.995462564080635\n",
      "(5) Negative log-lilekihood: 3.8437077183036, Loss: 4.404924348921072\n",
      "(6) Negative log-lilekihood: 2.9054565435578996, Loss: 3.7197799816419117\n",
      "(7) Negative log-lilekihood: 2.4516567461015235, Loss: 3.528918585997517\n",
      "(8) Negative log-lilekihood: 2.2934178982644173, Loss: 3.4990996143266146\n",
      "(9) Negative log-lilekihood: 2.2651582965650228, Loss: 3.4977705410739475\n",
      "(10) Negative log-lilekihood: 2.264354088347387, Loss: 3.497769367375719\n"
     ]
    }
   ],
   "source": [
    "# 学習の実行\n",
    "Phi = GaussianBasis(X_train, s=1.0)\n",
    "d = Phi.baseMu.shape[0]    # 入力の次元数\n",
    "LogisticReg = TwoClassLogisticRegression()\n",
    "LogisticReg.fit(Phi(X_train), y_train, lam=0.001, Tmax=10, bias=False)"
   ]
  },
  {
   "cell_type": "code",
   "execution_count": 11,
   "metadata": {
    "colab": {
     "base_uri": "https://localhost:8080/",
     "height": 265
    },
    "executionInfo": {
     "elapsed": 863,
     "status": "ok",
     "timestamp": 1621810118006,
     "user": {
      "displayName": "Shinichi Shirakawa",
      "photoUrl": "",
      "userId": "09393306983207370478"
     },
     "user_tz": -540
    },
    "id": "bTpDNLA6PuMz",
    "outputId": "571ab59e-0b03-472c-b47a-956b5ee98d1e"
   },
   "outputs": [
    {
     "data": {
      "image/png": "[encoded data removed]",
      "text/plain": [
       "<Figure size 432x288 with 1 Axes>"
      ]
     },
     "metadata": {
      "needs_background": "light",
      "tags": []
     },
     "output_type": "display_data"
    }
   ],
   "source": [
    "res_plot(LogisticReg.predict, X, y, X_train, X_test, y_train, y_test, Phi=Phi)"
   ]
  },
  {
   "cell_type": "code",
   "execution_count": 12,
   "metadata": {
    "colab": {
     "base_uri": "https://localhost:8080/"
    },
    "executionInfo": {
     "elapsed": 28,
     "status": "ok",
     "timestamp": 1621810118007,
     "user": {
      "displayName": "Shinichi Shirakawa",
      "photoUrl": "",
      "userId": "09393306983207370478"
     },
     "user_tz": -540
    },
    "id": "78GbaW4ARLKf",
    "outputId": "105c746e-13e2-49f5-86d9-3213d10e8e33"
   },
   "outputs": [
    {
     "data": {
      "text/plain": [
       "1.0"
      ]
     },
     "execution_count": 12,
     "metadata": {
      "tags": []
     },
     "output_type": "execute_result"
    }
   ],
   "source": [
    "# テストデータに対する予測精度を計算\n",
    "from sklearn.metrics import accuracy_score\n",
    "y_pred = LogisticReg.predict(Phi(X_test)) > 0.5  # 予測値が0.5より大きければ一つ目のクラスと予測する\n",
    "y_pred = y_pred.astype(np.int)\n",
    "accuracy_score(y_test, y_pred)"
   ]
  },
  {
   "cell_type": "markdown",
   "metadata": {
    "id": "XxPe9UVQTcI5"
   },
   "source": [
    "# ロジスティック回帰（scikit-learnを使った場合）\n",
    "* https://scikit-learn.org/stable/modules/generated/sklearn.linear_model.LogisticRegression.html"
   ]
  },
  {
   "cell_type": "code",
   "execution_count": 13,
   "metadata": {
    "colab": {
     "base_uri": "https://localhost:8080/"
    },
    "executionInfo": {
     "elapsed": 25,
     "status": "ok",
     "timestamp": 1621810118008,
     "user": {
      "displayName": "Shinichi Shirakawa",
      "photoUrl": "",
      "userId": "09393306983207370478"
     },
     "user_tz": -540
    },
    "id": "00G9azhNTBtj",
    "outputId": "ad21fe3a-dba3-4697-b848-2a78ab60f8bf"
   },
   "outputs": [
    {
     "data": {
      "text/plain": [
       "LogisticRegression(C=1.0, class_weight=None, dual=False, fit_intercept=True,\n",
       "                   intercept_scaling=1, l1_ratio=None, max_iter=100,\n",
       "                   multi_class='auto', n_jobs=None, penalty='l2',\n",
       "                   random_state=None, solver='lbfgs', tol=0.0001, verbose=0,\n",
       "                   warm_start=False)"
      ]
     },
     "execution_count": 13,
     "metadata": {
      "tags": []
     },
     "output_type": "execute_result"
    }
   ],
   "source": [
    "from sklearn.linear_model import LogisticRegression\n",
    "sk_logit = LogisticRegression(C=1.0)\n",
    "sk_logit.fit(X_train, y_train)"
   ]
  },
  {
   "cell_type": "code",
   "execution_count": 14,
   "metadata": {
    "colab": {
     "base_uri": "https://localhost:8080/",
     "height": 265
    },
    "executionInfo": {
     "elapsed": 21,
     "status": "ok",
     "timestamp": 1621810118008,
     "user": {
      "displayName": "Shinichi Shirakawa",
      "photoUrl": "",
      "userId": "09393306983207370478"
     },
     "user_tz": -540
    },
    "id": "sTNWBY4TTZF3",
    "outputId": "a1d3c1ef-5827-43bd-b890-6cd58d2e50b4"
   },
   "outputs": [
    {
     "data": {
      "image/png": "[encoded data removed]",
      "text/plain": [
       "<Figure size 432x288 with 1 Axes>"
      ]
     },
     "metadata": {
      "needs_background": "light",
      "tags": []
     },
     "output_type": "display_data"
    }
   ],
   "source": [
    "res_plot(sk_logit.predict, X, y, X_train, X_test, y_train, y_test)"
   ]
  },
  {
   "cell_type": "code",
   "execution_count": 15,
   "metadata": {
    "colab": {
     "base_uri": "https://localhost:8080/"
    },
    "executionInfo": {
     "elapsed": 20,
     "status": "ok",
     "timestamp": 1621810118009,
     "user": {
      "displayName": "Shinichi Shirakawa",
      "photoUrl": "",
      "userId": "09393306983207370478"
     },
     "user_tz": -540
    },
    "id": "SxKeN50sTatg",
    "outputId": "58fe0a43-a7b2-418a-ce36-83be7eb2a227"
   },
   "outputs": [
    {
     "data": {
      "text/plain": [
       "0.85"
      ]
     },
     "execution_count": 15,
     "metadata": {
      "tags": []
     },
     "output_type": "execute_result"
    }
   ],
   "source": [
    "# テストデータに対する予測精度を計算\n",
    "from sklearn.metrics import accuracy_score\n",
    "y_pred = sk_logit.predict(X_test)\n",
    "accuracy_score(y_test, y_pred)"
   ]
  },
  {
   "cell_type": "markdown",
   "metadata": {
    "id": "2c5U3Pcjc4MY"
   },
   "source": [
    "# Scikit-learn組み込みのIrisデータ（３クラス分類）に適用してみる"
   ]
  },
  {
   "cell_type": "code",
   "execution_count": 16,
   "metadata": {
    "executionInfo": {
     "elapsed": 17,
     "status": "ok",
     "timestamp": 1621810118010,
     "user": {
      "displayName": "Shinichi Shirakawa",
      "photoUrl": "",
      "userId": "09393306983207370478"
     },
     "user_tz": -540
    },
    "id": "FGElrMkaTw8_"
   },
   "outputs": [],
   "source": [
    "from sklearn.datasets import load_iris\n",
    "from sklearn.linear_model import LogisticRegression\n",
    "\n",
    "X, y = load_iris(return_X_y=True)\n",
    "# 訓練とテストに分ける\n",
    "X_train, X_test, y_train, y_test = train_test_split(X, y, test_size=0.2)\n",
    "\n",
    "# 学習\n",
    "clf = LogisticRegression(C=1).fit(X_train, y_train)"
   ]
  },
  {
   "cell_type": "code",
   "execution_count": 17,
   "metadata": {
    "colab": {
     "base_uri": "https://localhost:8080/"
    },
    "executionInfo": {
     "elapsed": 17,
     "status": "ok",
     "timestamp": 1621810118011,
     "user": {
      "displayName": "Shinichi Shirakawa",
      "photoUrl": "",
      "userId": "09393306983207370478"
     },
     "user_tz": -540
    },
    "id": "Yu-QHHyXdaI8",
    "outputId": "c945c708-d770-4814-ab3f-dd71b71cb5f4"
   },
   "outputs": [
    {
     "data": {
      "text/plain": [
       "1.0"
      ]
     },
     "execution_count": 17,
     "metadata": {
      "tags": []
     },
     "output_type": "execute_result"
    }
   ],
   "source": [
    "# テストデータに対する予測精度を計算\n",
    "y_pred = clf.predict(X_test)\n",
    "accuracy_score(y_test, y_pred)"
   ]
  },
  {
   "cell_type": "code",
   "execution_count": 17,
   "metadata": {
    "executionInfo": {
     "elapsed": 15,
     "status": "ok",
     "timestamp": 1621810118011,
     "user": {
      "displayName": "Shinichi Shirakawa",
      "photoUrl": "",
      "userId": "09393306983207370478"
     },
     "user_tz": -540
    },
    "id": "ozfcs_YQdmyu"
   },
   "outputs": [],
   "source": []
  },
  {
   "cell_type": "code",
   "execution_count": 17,
   "metadata": {
    "executionInfo": {
     "elapsed": 15,
     "status": "ok",
     "timestamp": 1621810118012,
     "user": {
      "displayName": "Shinichi Shirakawa",
      "photoUrl": "",
      "userId": "09393306983207370478"
     },
     "user_tz": -540
    },
    "id": "UtIZy2-b8hoS"
   },
   "outputs": [],
   "source": []
  }
 ],
 "metadata": {
  "colab": {
   "authorship_tag": "ABX9TyNlmJpYnQjuZdk5FjxD4cVw",
   "collapsed_sections": [],
   "name": "logistic_regression",
   "provenance": []
  },
  "kernelspec": {
   "display_name": "Python 3",
   "language": "python",
   "name": "python3"
  },
  "language_info": {
   "codemirror_mode": {
    "name": "ipython",
    "version": 3
   },
   "file_extension": ".py",
   "mimetype": "text/x-python",
   "name": "python",
   "nbconvert_exporter": "python",
   "pygments_lexer": "ipython3",
   "version": "3.7.10"
  }
 },
 "nbformat": 4,
 "nbformat_minor": 1
}
